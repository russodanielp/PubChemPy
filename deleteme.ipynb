{
 "cells": [
  {
   "cell_type": "code",
   "execution_count": 2,
   "metadata": {
    "collapsed": true
   },
   "outputs": [],
   "source": [
    "from pubchempy import *\n",
    "import xml.etree.cElementTree as ET"
   ]
  },
  {
   "cell_type": "code",
   "execution_count": 26,
   "metadata": {
    "collapsed": true
   },
   "outputs": [],
   "source": [
    "NAMESPACE = {'pubchem': 'http://www.ncbi.nlm.nih.gov'}"
   ]
  },
  {
   "cell_type": "code",
   "execution_count": 23,
   "metadata": {
    "collapsed": false
   },
   "outputs": [],
   "source": [
    "xml = request(1, namespace='aid', domain='assay', output='xml', sid='495487,521806')"
   ]
  },
  {
   "cell_type": "code",
   "execution_count": 24,
   "metadata": {
    "collapsed": false
   },
   "outputs": [],
   "source": [
    "tree = ET.parse(xml)\n",
    "root = tree.getroot()\n"
   ]
  },
  {
   "cell_type": "code",
   "execution_count": 50,
   "metadata": {
    "collapsed": false
   },
   "outputs": [],
   "source": [
    "result_types = root.findall('pubchem:PC-AssaySubmit/pubchem:PC-AssaySubmit_assay/pubchem:PC-AssaySubmit_assay_descr/' +\n",
    "                      'pubchem:PC-AssayDescription/pubchem:PC-AssayDescription_results/pubchem:PC-ResultType/pubchem:PC-ResultType_name'\n",
    "                      , NAMESPACE)\n",
    "\n",
    "columns = [result.text for result in result_types]"
   ]
  },
  {
   "cell_type": "code",
   "execution_count": 52,
   "metadata": {
    "collapsed": false
   },
   "outputs": [
    {
     "data": {
      "text/plain": [
       "['495487', '521806']"
      ]
     },
     "execution_count": 52,
     "metadata": {},
     "output_type": "execute_result"
    }
   ],
   "source": [
    "sids = root.findall('pubchem:PC-AssaySubmit/pubchem:PC-AssaySubmit_data/pubchem:PC-AssayResults/' +\n",
    "                      'pubchem:PC-AssayResults_sid'\n",
    "                      , NAMESPACE)\n",
    "[sid.text for sid in sids]"
   ]
  },
  {
   "cell_type": "code",
   "execution_count": 84,
   "metadata": {
    "collapsed": false
   },
   "outputs": [
    {
     "data": {
      "text/plain": [
       "[['-8.719', '0', '-8.719', '0'], ['-6.111', '0.801', '-4.78', '0.089']]"
      ]
     },
     "execution_count": 84,
     "metadata": {},
     "output_type": "execute_result"
    }
   ],
   "source": [
    "data = root.findall('pubchem:PC-AssaySubmit/pubchem:PC-AssaySubmit_data/pubchem:PC-AssayResults/' +\n",
    "                      'pubchem:PC-AssayResults_data'\n",
    "                      , NAMESPACE)\n",
    "\n",
    "f = lambda f: f.text\n",
    "\n",
    "[list(map(f, d.findall('pubchem:PC-AssayData/pubchem:PC-AssayData_tid', NAMESPACE))) for d in data]\n",
    "[list(map(f, d.findall('pubchem:PC-AssayData/pubchem:PC-AssayData_value/pubchem:PC-AssayData_value_fval', NAMESPACE))) for d in data]"
   ]
  },
  {
   "cell_type": "code",
   "execution_count": null,
   "metadata": {
    "collapsed": true
   },
   "outputs": [],
   "source": []
  }
 ],
 "metadata": {
  "kernelspec": {
   "display_name": "Python 3",
   "language": "python",
   "name": "python3"
  },
  "language_info": {
   "codemirror_mode": {
    "name": "ipython",
    "version": 3
   },
   "file_extension": ".py",
   "mimetype": "text/x-python",
   "name": "python",
   "nbconvert_exporter": "python",
   "pygments_lexer": "ipython3",
   "version": "3.5.2"
  }
 },
 "nbformat": 4,
 "nbformat_minor": 0
}

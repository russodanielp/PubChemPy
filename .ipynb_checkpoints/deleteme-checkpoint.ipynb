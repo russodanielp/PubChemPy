{
 "cells": [
  {
   "cell_type": "code",
   "execution_count": 1,
   "metadata": {
    "collapsed": true
   },
   "outputs": [],
   "source": [
    "from pubchempy import *\n",
    "import xml.etree.cElementTree as ET"
   ]
  },
  {
   "cell_type": "code",
   "execution_count": 2,
   "metadata": {
    "collapsed": true
   },
   "outputs": [],
   "source": [
    "NAMESPACE = {'pubchem': 'http://www.ncbi.nlm.nih.gov'}"
   ]
  },
  {
   "cell_type": "code",
   "execution_count": 3,
   "metadata": {
    "collapsed": false
   },
   "outputs": [],
   "source": [
    "xml = request(1, namespace='aid', domain='assay', output='xml', sid='495487,521806')"
   ]
  },
  {
   "cell_type": "code",
   "execution_count": 4,
   "metadata": {
    "collapsed": false
   },
   "outputs": [],
   "source": [
    "tree = ET.parse(xml)\n",
    "root = tree.getroot()\n"
   ]
  },
  {
   "cell_type": "code",
   "execution_count": 5,
   "metadata": {
    "collapsed": false
   },
   "outputs": [],
   "source": [
    "result_types = root.findall('pubchem:PC-AssaySubmit/pubchem:PC-AssaySubmit_assay/pubchem:PC-AssaySubmit_assay_descr/' +\n",
    "                      'pubchem:PC-AssayDescription/pubchem:PC-AssayDescription_results/pubchem:PC-ResultType/pubchem:PC-ResultType_name'\n",
    "                      , NAMESPACE)\n",
    "\n",
    "columns = [result.text for result in result_types]"
   ]
  },
  {
   "cell_type": "code",
   "execution_count": 8,
   "metadata": {
    "collapsed": false
   },
   "outputs": [],
   "source": [
    "sids = root.findall('pubchem:PC-AssaySubmit/pubchem:PC-AssaySubmit_data/pubchem:PC-AssayResults/' +\n",
    "                      'pubchem:PC-AssayResults_sid'\n",
    "                      , NAMESPACE)\n",
    "index = [sid.text for sid in sids]"
   ]
  },
  {
   "cell_type": "code",
   "execution_count": 33,
   "metadata": {
    "collapsed": false
   },
   "outputs": [],
   "source": [
    "data = root.findall('pubchem:PC-AssaySubmit/pubchem:PC-AssaySubmit_data/pubchem:PC-AssayResults/' +\n",
    "                      'pubchem:PC-AssayResults_data'\n",
    "                      , NAMESPACE)\n",
    "\n",
    "f = lambda f: f.text\n",
    "\n",
    "data_values = [d.findall('pubchem:PC-AssayData/pubchem:PC-AssayData_value', NAMESPACE) for d in data]\n"
   ]
  },
  {
   "cell_type": "code",
   "execution_count": 34,
   "metadata": {
    "collapsed": false
   },
   "outputs": [
    {
     "data": {
      "text/plain": [
       "[<Element '{http://www.ncbi.nlm.nih.gov}PC-AssayResults_data' at 0x0000000004EEABD8>,\n",
       " <Element '{http://www.ncbi.nlm.nih.gov}PC-AssayResults_data' at 0x0000000004EEFBD8>]"
      ]
     },
     "execution_count": 34,
     "metadata": {},
     "output_type": "execute_result"
    }
   ],
   "source": [
    "data"
   ]
  },
  {
   "cell_type": "code",
   "execution_count": 31,
   "metadata": {
    "collapsed": false
   },
   "outputs": [
    {
     "name": "stdout",
     "output_type": "stream",
     "text": [
      "<Element '{http://www.ncbi.nlm.nih.gov}PC-AssayData_value_fval' at 0x0000000004EEAE08>\n"
     ]
    }
   ],
   "source": [
    "for each in data_values[0][0]:\n",
    "    print(each)"
   ]
  },
  {
   "cell_type": "markdown",
   "metadata": {},
   "source": [
    "## columns"
   ]
  },
  {
   "cell_type": "code",
   "execution_count": 9,
   "metadata": {
    "collapsed": false
   },
   "outputs": [
    {
     "data": {
      "text/plain": [
       "[['1', '4', '5', '6', '9', '10'], ['1', '4', '5', '6', '9', '10']]"
      ]
     },
     "execution_count": 9,
     "metadata": {},
     "output_type": "execute_result"
    }
   ],
   "source": [
    "[list(map(f, d.findall('pubchem:PC-AssayData/pubchem:PC-AssayData_tid', NAMESPACE))) for d in data]"
   ]
  },
  {
   "cell_type": "code",
   "execution_count": null,
   "metadata": {
    "collapsed": true
   },
   "outputs": [],
   "source": []
  }
 ],
 "metadata": {
  "kernelspec": {
   "display_name": "Python 3",
   "language": "python",
   "name": "python3"
  },
  "language_info": {
   "codemirror_mode": {
    "name": "ipython",
    "version": 3
   },
   "file_extension": ".py",
   "mimetype": "text/x-python",
   "name": "python",
   "nbconvert_exporter": "python",
   "pygments_lexer": "ipython3",
   "version": "3.5.2"
  }
 },
 "nbformat": 4,
 "nbformat_minor": 0
}
